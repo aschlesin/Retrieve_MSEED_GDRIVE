{
 "cells": [
  {
   "cell_type": "code",
   "execution_count": null,
   "id": "3acf4e98",
   "metadata": {},
   "outputs": [],
   "source": [
    "import Read_mseed_from_Drive as MH\n",
    "import pandas as pd"
   ]
  },
  {
   "cell_type": "code",
   "execution_count": null,
   "id": "19f7a52c",
   "metadata": {},
   "outputs": [],
   "source": [
    "\n",
    "# Generate credentials, load from token if it exists, otherwise create a token\n",
    "SCOPES = [\"https://www.googleapis.com/auth/drive.readonly\"]\n",
    "\n",
    "credential_json = 'ENTER YOUR CREDENTIALS JSON FILE PATH HERE'\n",
    "token_json = 'ENTER YOUR TOKEN JSON FILE PATH HERE'\n",
    "\n",
    "creds = MH.get_credentials(credential_json,token_json,SCOPES)\n",
    "\n",
    "# --- 1) Authenticate -------------------------------------------------\n",
    "drive = MH.build(\"drive\", \"v3\", credentials=creds)\n",
    "\n",
    "# Example using the folder walk search for the MergedData folder\n",
    "file_type = '.mseed'\n",
    "deep_folder_id = 'ENTER YOUR DEEP FOLDER ID HERE' # This is the folder ID of your gdrive link\n",
    "\n",
    "all_files = MH.list_all_mseed_files(drive,deep_folder_id,file_type)\n",
    "session = MH.requests.Session()\n",
    "session.headers.update({\"Authorization\": \"Bearer \" + creds.token})\n",
    "\n",
    "# Put header info into dictionary; currently there is no check for bad records\n",
    "# Put data from all files into on stream object\n",
    "all_headers = []\n",
    "streams = []\n",
    "for f in all_files:\n",
    "    #print(f)\n",
    "    try:\n",
    "        print(f\"Reading {f['name']}\")\n",
    "        st = MH.fetch_full_mseed(f[\"id\"],session)\n",
    "        #-----------\n",
    "        #### this is for fetchin the header bytes into a data frame: all_headers\n",
    "        b = MH.fetch_header_bytes(f[\"id\"])\n",
    "        hdr = MH.parse_mseed_header(b)\n",
    "        hdr[\"name\"] = f[\"name\"]\n",
    "        all_headers.append(hdr)\n",
    "        #-----------\n",
    "        for tr in st: streams.append(tr)\n",
    "    except Exception as e:\n",
    "        print(e)\n",
    "\n",
    "\n",
    "df = pd.DataFrame(all_headers)\n"
   ]
  }
 ],
 "metadata": {
  "kernelspec": {
   "display_name": "obspy2",
   "language": "python",
   "name": "python3"
  },
  "language_info": {
   "codemirror_mode": {
    "name": "ipython",
    "version": 3
   },
   "file_extension": ".py",
   "mimetype": "text/x-python",
   "name": "python",
   "nbconvert_exporter": "python",
   "pygments_lexer": "ipython3",
   "version": "3.11.6"
  }
 },
 "nbformat": 4,
 "nbformat_minor": 5
}
